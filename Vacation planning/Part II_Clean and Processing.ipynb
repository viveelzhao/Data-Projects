{
 "cells": [
  {
   "cell_type": "markdown",
   "metadata": {},
   "source": [
    "###### 0. Loading libraries"
   ]
  },
  {
   "cell_type": "code",
   "execution_count": 1,
   "metadata": {
    "collapsed": false
   },
   "outputs": [],
   "source": [
    "%matplotlib notebook\n",
    "import requests\n",
    "import os\n",
    "from boto.s3.connection import S3Connection\n",
    "from boto.s3.key import Key\n",
    "from string import punctuation\n",
    "import pandas as pd\n",
    "import numpy as np\n",
    "import re\n",
    "from IPython.display import Image\n",
    "from IPython.core.display import HTML"
   ]
  },
  {
   "cell_type": "markdown",
   "metadata": {},
   "source": [
    "###### 1. Setting global variables"
   ]
  },
  {
   "cell_type": "code",
   "execution_count": 2,
   "metadata": {
    "collapsed": true
   },
   "outputs": [],
   "source": [
    "CRAWLER_SWITCH = False\n",
    "S3_IO = False\n",
    "ACCESS_KEY = \"\"\n",
    "SECRET_KEY = \"/\"\n",
    "BUCKET_NAME = 'parks101'\n",
    "READ_SWITCH = True\n",
    "WRITE_SWITCH = False\n",
    "FIT_SWITCH = True\n",
    "DATA_FOLDER = '/Users/Wei.Zhao/Documents/Python code/tripadvisor/'\n",
    "MODEL_FOLDER = '/Users/Wei.Zhao/Documents/Python code/tripadvisor/models/'\n",
    "PARK_INFO_FILE = 'parks_info.csv'\n",
    "REVIEW_RAW_FILE = 'reviews_raw.csv'\n",
    "CLEAN_PARK_INFO_FILE = 'parks_info_clean.csv'\n",
    "CLEAN_REVIEW_FILE = 'reviews_clean.csv'"
   ]
  },
  {
   "cell_type": "markdown",
   "metadata": {},
   "source": [
    "###### 2. Read Data"
   ]
  },
  {
   "cell_type": "code",
   "execution_count": 3,
   "metadata": {
    "collapsed": false
   },
   "outputs": [],
   "source": [
    "review_df_columns = ['index', 'comments', 'date', 'park_id', 'stars', 'title', 'reviewer_level', 'reviewer']\n",
    "review_df_dtypes = {'index': np.int32, \n",
    "                    'comments': str, \n",
    "                    'date': str, \n",
    "                    'park_id': np.int32, \n",
    "                    'stars': np.int32, \n",
    "                    'title': str, \n",
    "                    'reviewer_level': np.int32, \n",
    "                    'reviewer': str}\n",
    "if S3_IO:\n",
    "    s3_handle = S3Connection(ACCESS_KEY, SECRET_KEY)\n",
    "    bucket_handle = s3_handle.get_bucket(BUCKET_NAME)\n",
    "    file_handle = Key(bucket_handle)\n",
    "    file_handle.key = PARK_INFO_FILE\n",
    "    file_handle.open()\n",
    "    parks_info_df = pd.read_csv(file_handle, index_col=0)\n",
    "    file_handle.close()\n",
    "    file_handle.key = REVIEW_RAW_FILE\n",
    "    file_handle.open()\n",
    "    review_raw_df = pd.read_csv(file_handle, index_col=0, header=0)\n",
    "    file_handle.close()\n",
    "else:\n",
    "    parks_info_df = pd.read_csv(os.path.join(DATA_FOLDER, PARK_INFO_FILE), index_col=0)\n",
    "    review_raw_df = pd.read_csv(os.path.join(DATA_FOLDER, REVIEW_RAW_FILE), names=review_df_columns)"
   ]
  },
  {
   "cell_type": "markdown",
   "metadata": {},
   "source": [
    "* 2.1 *(optional)* to save date to S3"
   ]
  },
  {
   "cell_type": "code",
   "execution_count": null,
   "metadata": {
    "collapsed": false
   },
   "outputs": [],
   "source": [
    "if S3_IO and WRITE_SWITCH:\n",
    "    s3_handle = S3Connection(ACCESS_KEY, SECRET_KEY)\n",
    "    bucket_handle = s3_handle.get_bucket(BUCKET_NAME)\n",
    "    for onefile, df in zip((PARK_INFO_FILE, REVIEW_RAW_FILE), (parks_info_df, review_raw_df)):\n",
    "        if onefile in [i.name for i in bucket_handle.list()]:\n",
    "            file_exist = Key(bucket_handle)\n",
    "            file_exist.key = onefile\n",
    "            bucket_handle.delete_key(file_exist)\n",
    "        new_file_handle = bucket_handle.new_key(onefile)\n",
    "        new_file_handle.set_contents_from_string(df.to_csv())"
   ]
  },
  {
   "cell_type": "markdown",
   "metadata": {},
   "source": [
    "* 2.2 Clean up park_info dataframe\n",
    "\n",
    "    + 2.2.1 Remove duplicate\n",
    "    + 2.2.2 Convert visit counts to integer\n",
    "    + 2.2.3 Count total visit numbers"
   ]
  },
  {
   "cell_type": "code",
   "execution_count": 13,
   "metadata": {
    "collapsed": false
   },
   "outputs": [
    {
     "name": "stdout",
     "output_type": "stream",
     "text": [
      "1025\n",
      "1025\n"
     ]
    }
   ],
   "source": [
    "print parks_info_df.count()['park_id']\n",
    "parks_info_df.drop_duplicates(inplace=True)\n",
    "print parks_info_df.count()['park_id']\n",
    "\n",
    "column_names = parks_info_df.columns.values.tolist()[5:19]\n",
    "for col in column_names:\n",
    "    parks_info_df[col] = parks_info_df[col].apply(int)\n",
    "    \n",
    "def col_agg(x, inputCol, *weights):\n",
    "    data_type = x[inputCol[0]]\n",
    "    if not weights:\n",
    "        if isinstance(data_type, (int, float, long)):\n",
    "            return sum(x[i] for i in inputCol)\n",
    "        elif isinstance(data_type, (str, object)):\n",
    "            return ' '.join([x[i] for i in inputCol])\n",
    "        return None\n",
    "    else:\n",
    "        if isinstance(data_type, (int, float, long)):\n",
    "            return sum(x[i] * w for i, w in zip(inputCol, weights[0]))\n",
    "        elif isinstance(data_type, (str, object)):\n",
    "            return ' '.join([' '.join([x[i], ' ']) * w for i, w in zip(inputCol, weights[0])])\n",
    "        return None\n",
    "\n",
    "parks_info_df['total visit'] = parks_info_df.apply(lambda x: col_agg(x, ['Spring', 'Summer', 'Fall', 'Winter']), axis=1)"
   ]
  },
  {
   "cell_type": "code",
   "execution_count": 21,
   "metadata": {
    "collapsed": false
   },
   "outputs": [
    {
     "data": {
      "text/html": [
       "<div>\n",
       "<table border=\"1\" class=\"dataframe\">\n",
       "  <thead>\n",
       "    <tr style=\"text-align: right;\">\n",
       "      <th></th>\n",
       "      <th>park_id</th>\n",
       "      <th>html</th>\n",
       "      <th>name</th>\n",
       "      <th>city</th>\n",
       "      <th>state</th>\n",
       "      <th>Excellent</th>\n",
       "      <th>Very_good</th>\n",
       "      <th>Average</th>\n",
       "      <th>Poor</th>\n",
       "      <th>Terrible</th>\n",
       "      <th>Families</th>\n",
       "      <th>Couples</th>\n",
       "      <th>Friends</th>\n",
       "      <th>Solo</th>\n",
       "      <th>Business</th>\n",
       "      <th>Spring</th>\n",
       "      <th>Summer</th>\n",
       "      <th>Fall</th>\n",
       "      <th>Winter</th>\n",
       "      <th>total visit</th>\n",
       "    </tr>\n",
       "  </thead>\n",
       "  <tbody>\n",
       "    <tr>\n",
       "      <th>0</th>\n",
       "      <td>0.0</td>\n",
       "      <td>https://www.tripadvisor.com/Attraction_Review-...</td>\n",
       "      <td>Central_Park</td>\n",
       "      <td>New_York_City_New</td>\n",
       "      <td>York</td>\n",
       "      <td>35444</td>\n",
       "      <td>9112</td>\n",
       "      <td>1380</td>\n",
       "      <td>132</td>\n",
       "      <td>52</td>\n",
       "      <td>12377</td>\n",
       "      <td>15311</td>\n",
       "      <td>7739</td>\n",
       "      <td>2824</td>\n",
       "      <td>1144</td>\n",
       "      <td>11247</td>\n",
       "      <td>14390</td>\n",
       "      <td>11419</td>\n",
       "      <td>9064</td>\n",
       "      <td>46120</td>\n",
       "    </tr>\n",
       "    <tr>\n",
       "      <th>1</th>\n",
       "      <td>1.0</td>\n",
       "      <td>https://www.tripadvisor.com/Attraction_Review-...</td>\n",
       "      <td>Hot_Springs_National_Park</td>\n",
       "      <td>Hot_Springs</td>\n",
       "      <td>Arkansas</td>\n",
       "      <td>210</td>\n",
       "      <td>99</td>\n",
       "      <td>42</td>\n",
       "      <td>13</td>\n",
       "      <td>5</td>\n",
       "      <td>95</td>\n",
       "      <td>151</td>\n",
       "      <td>46</td>\n",
       "      <td>15</td>\n",
       "      <td>6</td>\n",
       "      <td>104</td>\n",
       "      <td>143</td>\n",
       "      <td>78</td>\n",
       "      <td>44</td>\n",
       "      <td>369</td>\n",
       "    </tr>\n",
       "    <tr>\n",
       "      <th>2</th>\n",
       "      <td>2.0</td>\n",
       "      <td>https://www.tripadvisor.com/Attraction_Review-...</td>\n",
       "      <td>Hawaii_Volcanoes_National_Park</td>\n",
       "      <td>Hawaii_Volcanoes_National_Park_Island_of_Hawaii</td>\n",
       "      <td>Ha</td>\n",
       "      <td>3424</td>\n",
       "      <td>768</td>\n",
       "      <td>136</td>\n",
       "      <td>25</td>\n",
       "      <td>13</td>\n",
       "      <td>1168</td>\n",
       "      <td>1875</td>\n",
       "      <td>481</td>\n",
       "      <td>161</td>\n",
       "      <td>19</td>\n",
       "      <td>1150</td>\n",
       "      <td>1220</td>\n",
       "      <td>860</td>\n",
       "      <td>1136</td>\n",
       "      <td>4366</td>\n",
       "    </tr>\n",
       "    <tr>\n",
       "      <th>3</th>\n",
       "      <td>3.0</td>\n",
       "      <td>https://www.tripadvisor.com/Attraction_Review-...</td>\n",
       "      <td>Dry_Tortugas_National_Park</td>\n",
       "      <td>Key_West_Florida_Keys</td>\n",
       "      <td>Florida</td>\n",
       "      <td>2478</td>\n",
       "      <td>423</td>\n",
       "      <td>89</td>\n",
       "      <td>20</td>\n",
       "      <td>14</td>\n",
       "      <td>694</td>\n",
       "      <td>1561</td>\n",
       "      <td>478</td>\n",
       "      <td>112</td>\n",
       "      <td>17</td>\n",
       "      <td>825</td>\n",
       "      <td>932</td>\n",
       "      <td>575</td>\n",
       "      <td>692</td>\n",
       "      <td>3024</td>\n",
       "    </tr>\n",
       "    <tr>\n",
       "      <th>4</th>\n",
       "      <td>4.0</td>\n",
       "      <td>https://www.tripadvisor.com/Attraction_Review-...</td>\n",
       "      <td>Bryce_Canyon</td>\n",
       "      <td>Bryce_Canyon_National_Park</td>\n",
       "      <td>Utah</td>\n",
       "      <td>3329</td>\n",
       "      <td>293</td>\n",
       "      <td>31</td>\n",
       "      <td>6</td>\n",
       "      <td>2</td>\n",
       "      <td>815</td>\n",
       "      <td>1636</td>\n",
       "      <td>469</td>\n",
       "      <td>144</td>\n",
       "      <td>8</td>\n",
       "      <td>783</td>\n",
       "      <td>1473</td>\n",
       "      <td>1100</td>\n",
       "      <td>305</td>\n",
       "      <td>3661</td>\n",
       "    </tr>\n",
       "    <tr>\n",
       "      <th>5</th>\n",
       "      <td>5.0</td>\n",
       "      <td>https://www.tripadvisor.com/Attraction_Review-...</td>\n",
       "      <td>Balboa_Park</td>\n",
       "      <td>San_Diego</td>\n",
       "      <td>California</td>\n",
       "      <td>4898</td>\n",
       "      <td>1349</td>\n",
       "      <td>201</td>\n",
       "      <td>39</td>\n",
       "      <td>12</td>\n",
       "      <td>1652</td>\n",
       "      <td>2004</td>\n",
       "      <td>899</td>\n",
       "      <td>430</td>\n",
       "      <td>259</td>\n",
       "      <td>1931</td>\n",
       "      <td>1929</td>\n",
       "      <td>1271</td>\n",
       "      <td>1368</td>\n",
       "      <td>6499</td>\n",
       "    </tr>\n",
       "  </tbody>\n",
       "</table>\n",
       "</div>"
      ],
      "text/plain": [
       "   park_id                                               html  \\\n",
       "0      0.0  https://www.tripadvisor.com/Attraction_Review-...   \n",
       "1      1.0  https://www.tripadvisor.com/Attraction_Review-...   \n",
       "2      2.0  https://www.tripadvisor.com/Attraction_Review-...   \n",
       "3      3.0  https://www.tripadvisor.com/Attraction_Review-...   \n",
       "4      4.0  https://www.tripadvisor.com/Attraction_Review-...   \n",
       "5      5.0  https://www.tripadvisor.com/Attraction_Review-...   \n",
       "\n",
       "                             name  \\\n",
       "0                    Central_Park   \n",
       "1       Hot_Springs_National_Park   \n",
       "2  Hawaii_Volcanoes_National_Park   \n",
       "3      Dry_Tortugas_National_Park   \n",
       "4                    Bryce_Canyon   \n",
       "5                     Balboa_Park   \n",
       "\n",
       "                                              city       state  Excellent  \\\n",
       "0                                New_York_City_New        York      35444   \n",
       "1                                      Hot_Springs    Arkansas        210   \n",
       "2  Hawaii_Volcanoes_National_Park_Island_of_Hawaii          Ha       3424   \n",
       "3                            Key_West_Florida_Keys     Florida       2478   \n",
       "4                       Bryce_Canyon_National_Park        Utah       3329   \n",
       "5                                        San_Diego  California       4898   \n",
       "\n",
       "   Very_good  Average  Poor  Terrible  Families  Couples  Friends  Solo  \\\n",
       "0       9112     1380   132        52     12377    15311     7739  2824   \n",
       "1         99       42    13         5        95      151       46    15   \n",
       "2        768      136    25        13      1168     1875      481   161   \n",
       "3        423       89    20        14       694     1561      478   112   \n",
       "4        293       31     6         2       815     1636      469   144   \n",
       "5       1349      201    39        12      1652     2004      899   430   \n",
       "\n",
       "   Business  Spring  Summer   Fall  Winter  total visit  \n",
       "0      1144   11247   14390  11419    9064        46120  \n",
       "1         6     104     143     78      44          369  \n",
       "2        19    1150    1220    860    1136         4366  \n",
       "3        17     825     932    575     692         3024  \n",
       "4         8     783    1473   1100     305         3661  \n",
       "5       259    1931    1929   1271    1368         6499  "
      ]
     },
     "execution_count": 21,
     "metadata": {},
     "output_type": "execute_result"
    }
   ],
   "source": [
    "parks_info_df.head(6)"
   ]
  },
  {
   "cell_type": "markdown",
   "metadata": {},
   "source": [
    "* 2.3 Clean up review_raw dataframe\n",
    "    + 2.3.1 Remove duplicates\n",
    "    + 2.3.2 Convert counts into integers\n",
    "    + 2.3.3 Convert date string into datestamp\n",
    "    + 2.3.4 Remove punctuates from comment strings\n",
    "    + 2.3.5 Assign a weight to title string and combine with comments"
   ]
  },
  {
   "cell_type": "code",
   "execution_count": 6,
   "metadata": {
    "collapsed": false
   },
   "outputs": [
    {
     "name": "stdout",
     "output_type": "stream",
     "text": [
      "1297806\n",
      "1297575\n"
     ]
    }
   ],
   "source": [
    "print review_raw_df.count()['park_id']\n",
    "review_raw_df.drop_duplicates(subset=['park_id', 'comments', 'reviewer'], inplace=True)\n",
    "print review_raw_df.count()['park_id']"
   ]
  },
  {
   "cell_type": "code",
   "execution_count": 7,
   "metadata": {
    "collapsed": false
   },
   "outputs": [],
   "source": [
    "def float2int(anum):\n",
    "    if isinstance(anum, float):\n",
    "        return int(anum)\n",
    "    else:\n",
    "        return anum\n",
    "\n",
    "def str2date(astr):  \n",
    "    months = ['January', 'February', 'March', 'April', 'May', 'June', 'July', 'August', 'September', 'October', 'November', 'December']\n",
    "    date_s = re.search('(January|February|March|April|May|June|July|August|September|October|November|December).*?(\\d{1,2}).*?(\\d{4})', astr)\n",
    "    m, d, y = date_s.group(1), date_s.group(2), date_s.group(3)                  \n",
    "    return pd.Timestamp('-'.join([y, str(months.index(m) + 1), d]))\n",
    "\n",
    "def remove_puncs(astr):\n",
    "    astr = re.sub('div.*div','',astr)\n",
    "    for s in punctuation:\n",
    "        astr = astr.replace(s, '')\n",
    "    return astr.lower() "
   ]
  },
  {
   "cell_type": "code",
   "execution_count": 11,
   "metadata": {
    "collapsed": true
   },
   "outputs": [],
   "source": [
    "review_clean_df=[]"
   ]
  },
  {
   "cell_type": "code",
   "execution_count": 12,
   "metadata": {
    "collapsed": false
   },
   "outputs": [],
   "source": [
    "cols = ['park_id', 'index', 'reviewer', 'reviewer_level', 'date', 'stars', 'title', 'comments']\n",
    "newcols = ['park_id', 'review_index', 'reviewer', 'reviewer_level', 'date', 'stars', 'title', 'comments']\n",
    "funs = [float2int, float2int, None, float2int, str2date, float2int, remove_puncs, remove_puncs]\n",
    "review_clean_df = pd.DataFrame()\n",
    "for i, col in enumerate(cols):\n",
    "    if funs[i]:\n",
    "        review_clean_df[newcols[i]] = review_raw_df[col].apply(funs[i])\n",
    "    else:\n",
    "        review_clean_df[newcols[i]] = review_raw_df[col]"
   ]
  },
  {
   "cell_type": "code",
   "execution_count": 14,
   "metadata": {
    "collapsed": false
   },
   "outputs": [],
   "source": [
    "title_weight = 1\n",
    "review_clean_df['comments'] = review_clean_df.apply(lambda x: col_agg(x, \n",
    "                                                                      ['title', 'comments'], \n",
    "                                                                      (title_weight, 1)), \n",
    "                                                    axis=1)"
   ]
  },
  {
   "cell_type": "code",
   "execution_count": 15,
   "metadata": {
    "collapsed": false,
    "scrolled": true
   },
   "outputs": [
    {
     "data": {
      "text/plain": [
       "'helpful with your utah vacation planning   utah is arguably one of the most scenic and geologically interesting states in usa to see all the southern utah attractions one can obtain information and maps from the utah travel and tourism sites or information centers utah has also 45 state parks  east zion tourism council provides maps weather information and helpful advice for visiting zion national park  '"
      ]
     },
     "execution_count": 15,
     "metadata": {},
     "output_type": "execute_result"
    }
   ],
   "source": [
    "review_clean_df.iloc[0]['comments']"
   ]
  },
  {
   "cell_type": "markdown",
   "metadata": {},
   "source": [
    "###### 3. Save cleaned dataframe"
   ]
  },
  {
   "cell_type": "code",
   "execution_count": 16,
   "metadata": {
    "collapsed": true
   },
   "outputs": [],
   "source": [
    "parks_info_df.to_csv(os.path.join(DATA_FOLDER, CLEAN_PARK_INFO_FILE), header=True)\n",
    "review_clean_df.to_csv(os.path.join(DATA_FOLDER, CLEAN_REVIEW_FILE), header=True)"
   ]
  }
 ],
 "metadata": {
  "anaconda-cloud": {},
  "kernelspec": {
   "display_name": "Python [default]",
   "language": "python",
   "name": "python2"
  },
  "language_info": {
   "codemirror_mode": {
    "name": "ipython",
    "version": 2
   },
   "file_extension": ".py",
   "mimetype": "text/x-python",
   "name": "python",
   "nbconvert_exporter": "python",
   "pygments_lexer": "ipython2",
   "version": "2.7.12"
  }
 },
 "nbformat": 4,
 "nbformat_minor": 0
}
