{
 "cells": [
  {
   "cell_type": "code",
   "execution_count": null,
   "metadata": {
    "collapsed": true
   },
   "outputs": [],
   "source": [
    "import requests\n",
    "import re\n",
    "from bs4 import BeautifulSoup\n",
    "import os\n",
    "from urlparse import urlparse, urlsplit"
   ]
  },
  {
   "cell_type": "code",
   "execution_count": null,
   "metadata": {
    "collapsed": false
   },
   "outputs": [],
   "source": [
    "def get_URL(mainURL,year):\n",
    "    return mainURL+str(year)\n",
    "\n",
    "def get_link_list(URL):\n",
    "    '''input one URL link\n",
    "       output a list of all download links in that page '''\n",
    "    #get text for that link\n",
    "    html_text = mysession.get(URL).text\n",
    "    #create soup object\n",
    "    soup = BeautifulSoup(html_text, 'html.parser')\n",
    "    #the link is contained in <a> class = 'episode-download-img' href='...link to mp3'\n",
    "    links = soup.findAll('a',{'class':'episode-download-img'})\n",
    "    #extract all the links to mp3\n",
    "    link_list = [i.get('href') for i in links]\n",
    "    return link_list\n",
    "\n",
    "def find_file_name(link,savepath,year):\n",
    "    '''extract the mp3 file name from the link,\n",
    "      http://hwcdn.libsyn.com/p/e/5/3/e5328d13367fc4ca/MINI_Belief_in_Santa_Claus.mp3?c_id=8102633...'''\n",
    "    s = link.split('/')[-1]\n",
    "    # MINI_Belief_in_Santa_Claus.mp3?c_id=8102633\n",
    "    filename = re.search('(.*)\\?.*',s).group(1)\n",
    "    # filename to save: 2014_MINI_Belief_in_Santa_Claus.mp3\n",
    "    return os.path.join(savepath,str(year)+'_'+filename)\n",
    "\n",
    "def download_mp3(link, filename):\n",
    "    '''input the link to mp3, and the filename to save\n",
    "       excute the download'''\n",
    "    with open(filename,'wb') as f:\n",
    "        audio_content = mysession.get(link, stream = True)\n",
    "        for chunk in audio_content.iter_content(chunk_size =255):\n",
    "            if chunk:\n",
    "                f.write(chunk)\n",
    "\n",
    "def download_podcast(mainURL, year_list,savepath):\n",
    "    for year in year_list:\n",
    "        # for each year, the page is different\n",
    "        url= get_URL(mainURL,year)\n",
    "        # get the list of all links to mp3 in that page\n",
    "        link_list = get_link_list(url)\n",
    "        for link in link_list:\n",
    "            # auto create the filename, adding savepath, and year to savepath\n",
    "            filename= find_file_name(link,savepath,year)  \n",
    "            download_mp3(link,filename)"
   ]
  },
  {
   "cell_type": "code",
   "execution_count": null,
   "metadata": {
    "collapsed": false
   },
   "outputs": [],
   "source": [
    "mysession = requests.Session()\n",
    "savepath ='/Users/Wei.Zhao/Documents/data skeptic podcast'\n",
    "mainURL = 'https://dataskeptic.com/podcast/'\n",
    "year_list = [2014,2015,2016,2017]\n",
    "download_podcast(mainURL,year_list,savepath)"
   ]
  }
 ],
 "metadata": {
  "anaconda-cloud": {},
  "kernelspec": {
   "display_name": "Python [conda root]",
   "language": "python",
   "name": "conda-root-py"
  },
  "language_info": {
   "codemirror_mode": {
    "name": "ipython",
    "version": 2
   },
   "file_extension": ".py",
   "mimetype": "text/x-python",
   "name": "python",
   "nbconvert_exporter": "python",
   "pygments_lexer": "ipython2",
   "version": "2.7.12"
  }
 },
 "nbformat": 4,
 "nbformat_minor": 1
}
