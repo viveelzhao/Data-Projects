{
 "cells": [
  {
   "cell_type": "code",
   "execution_count": 4,
   "metadata": {
    "collapsed": true
   },
   "outputs": [],
   "source": [
    "import numpy as np\n",
    "import pandas as pd\n",
    "import matplotlib.pyplot as plt\n",
    "%matplotlib inline\n",
    "import seaborn as sns\n",
    "from sklearn import preprocessing\n",
    "from sklearn.model_selection import train_test_split\n",
    "from sklearn.model_selection import KFold,cross_val_score\n",
    "from sklearn.linear_model import SGDClassifier\n",
    "from sklearn.model_selection import GridSearchCV\n",
    "from sklearn.metrics import classification_report\n",
    "from sklearn.metrics import confusion_matrix\n",
    "from sklearn.metrics import roc_curve, auc"
   ]
  },
  {
   "cell_type": "code",
   "execution_count": 2,
   "metadata": {
    "collapsed": false
   },
   "outputs": [],
   "source": [
    "data_df = pd.read_pickle('cleaned_features.pkl')\n",
    "y_label = pd.read_pickle('label.pkl')\n",
    "feature_columns = data_df.columns"
   ]
  },
  {
   "cell_type": "code",
   "execution_count": 3,
   "metadata": {
    "collapsed": false
   },
   "outputs": [],
   "source": [
    "# train test splitting\n",
    "X_train, X_test, y_train, y_test = train_test_split(data_df[feature_columns], y_label, test_size=0.33, random_state=42)"
   ]
  },
  {
   "cell_type": "markdown",
   "metadata": {},
   "source": [
    "### Grid Search for SGD SVM"
   ]
  },
  {
   "cell_type": "code",
   "execution_count": 21,
   "metadata": {
    "collapsed": true
   },
   "outputs": [],
   "source": [
    "sgd_clf = SGDClassifier(loss='hinge',average=True,n_iter = 100,penalty='l2',class_weight='balanced',shuffle=True)"
   ]
  },
  {
   "cell_type": "code",
   "execution_count": 22,
   "metadata": {
    "collapsed": false
   },
   "outputs": [
    {
     "name": "stdout",
     "output_type": "stream",
     "text": [
      "# Tuning hyper-parameters for f1\n",
      "\n",
      "Fitting 5 folds for each of 3 candidates, totalling 15 fits\n"
     ]
    },
    {
     "name": "stderr",
     "output_type": "stream",
     "text": [
      "[Parallel(n_jobs=1)]: Done  15 out of  15 | elapsed: 15.0min finished\n"
     ]
    },
    {
     "name": "stdout",
     "output_type": "stream",
     "text": [
      "Best parameters set found on development set: {'alpha': 100}\n",
      "\n",
      "Grid scores on development set:\n",
      "0.627 (+/-0.008) for {'alpha': 10}\n",
      "0.573 (+/-0.210) for {'alpha': 30}\n",
      "0.659 (+/-0.004) for {'alpha': 100}\n",
      "\n",
      "Detailed classification report:\n",
      "\n",
      "The model is trained on the full development set.\n",
      "The scores are computed on the full evaluation set.\n",
      "\n",
      "             precision    recall  f1-score   support\n",
      "\n",
      "          0       0.95      0.99      0.97    598528\n",
      "          1       0.91      0.52      0.66     63808\n",
      "\n",
      "avg / total       0.95      0.95      0.94    662336\n",
      "\n",
      "\n"
     ]
    }
   ],
   "source": [
    "tuned_parameters = [{'alpha': [10,30,100],\n",
    "                     }]\n",
    "scores = ['f1']\n",
    "\n",
    "for score in scores:\n",
    "    print \"# Tuning hyper-parameters for %s\" % score\n",
    "    print \n",
    "\n",
    "    clf = GridSearchCV(sgd_clf, tuned_parameters, cv=5,\n",
    "                       scoring = score,verbose=True)\n",
    "    clf.fit(X_train, y_train)\n",
    "\n",
    "    print \"Best parameters set found on development set:\",clf.best_params_\n",
    "    print\n",
    "    print \"Grid scores on development set:\"\n",
    "    means = clf.cv_results_['mean_test_score']\n",
    "    stds = clf.cv_results_['std_test_score']\n",
    "    for mean, std, params in zip(means, stds, clf.cv_results_['params']):\n",
    "        print \"%0.3f (+/-%0.03f) for %r\" % (mean, std * 2, params)\n",
    "    print\n",
    "\n",
    "    print \"Detailed classification report:\"\n",
    "    print \n",
    "    print \"The model is trained on the full development set.\"\n",
    "    print \"The scores are computed on the full evaluation set.\"\n",
    "    print \n",
    "    y_true, y_pred = y_test, clf.predict(X_test)\n",
    "    print classification_report(y_true, y_pred)\n",
    "    print\n"
   ]
  },
  {
   "cell_type": "code",
   "execution_count": null,
   "metadata": {
    "collapsed": false
   },
   "outputs": [],
   "source": [
    "def SGD_feature_rank(model,rescale = None, topk=10):\n",
    "\n",
    "    # get feature names\n",
    "    feature_names = X_train.columns.tolist()\n",
    "    \n",
    "    if rescale:\n",
    "        # get feature score for normalized data\n",
    "        norm_feature_score = model.best_estimator_.coef_[0]\n",
    "        # inverse scaling coefficients\n",
    "        feature_score = np.true_divide(norm_feature_score,scaling.scale_)\n",
    "        #absolute score\n",
    "        abs_score = np.absolute(norm_feature_score)\n",
    "        feature_df = pd.DataFrame({'feature_names':feature_names,\n",
    "                               'norm_feature_score':norm_feature_score,\n",
    "                               'feature_score':feature_score,\n",
    "                               'abs_score':abs_score\n",
    "                               })\n",
    "        # get most siginificant features \n",
    "        top_features = feature_df.sort_values('abs_score').iloc[-topk:]\n",
    "    else:\n",
    "        # get feature average score\n",
    "        feature_score = model.best_estimator_.coef_[0]\n",
    "        abs_score = np.absolute(feature_score)\n",
    "        feature_df = pd.DataFrame({'feature_names':feature_names,\n",
    "                                   'feature_score':feature_score,\n",
    "                                   'abs_score':abs_score\n",
    "                                 })\n",
    "\n",
    "    # create a dataframe\n",
    "    \n",
    "    # get most siginificant features \n",
    "    top_features = feature_df.sort_values('abs_score').iloc[-topk:]\n",
    "    # generate bar plot\n",
    "    fig,ax=plt.subplots(figsize=(6,6))\n",
    "    if rescale:\n",
    "        ax = top_features['norm_feature_score'].plot.barh(title='feature_importances')\n",
    "        ax.set_xlabel('normalized_feature score')\n",
    "    else:\n",
    "        ax = top_features['feature_score'].plot.barh(title='feature_importances')\n",
    "        ax.set_xlabel('feature score') \n",
    "    ax.set_ylabel('features')\n",
    "    ax.set_yticklabels(top_features['feature_names'])"
   ]
  },
  {
   "cell_type": "code",
   "execution_count": null,
   "metadata": {
    "collapsed": false
   },
   "outputs": [],
   "source": [
    "SGD_feature_rank(clf.best_estimator_)"
   ]
  },
  {
   "cell_type": "code",
   "execution_count": 15,
   "metadata": {
    "collapsed": false
   },
   "outputs": [],
   "source": [
    "def plot_confusion_matrix(ytest,ypredict):\n",
    "    cm =confusion_matrix(ytest, ypredict)\n",
    "    row_sums = cm.astype('float').sum(axis=1,keepdims=True)\n",
    "    RF_cm = cm / row_sums\n",
    "    plt.figure(figsize=(4, 3))\n",
    "    ax = sns.heatmap(RF_cm,annot=True)\n",
    "    ax.set(xlabel='Predicted Label',ylabel='True Label')"
   ]
  },
  {
   "cell_type": "code",
   "execution_count": 16,
   "metadata": {
    "collapsed": true
   },
   "outputs": [],
   "source": [
    "def plot_binary_ROC(ytest,yprob):\n",
    "    fpr,tpr,_= roc_curve(ytest,yprob)\n",
    "    roc_auc = auc(fpr,tpr)\n",
    "    plt.figure()\n",
    "    plt.plot(fpr,tpr,color='darkorange',lw=2,label='ROC curve(area = %0.2f)' %roc_auc)\n",
    "    plt.plot([0,1],[0,1],color='navy',lw=2,linestyle='--')\n",
    "    plt.xlim([0.0,1.0])\n",
    "    plt.ylim([0.0,1.05])\n",
    "    plt.xlabel('False Positive Rate')\n",
    "    plt.ylabel('True Positive Rate')\n",
    "    plt.title('ROC')\n",
    "    plt.legend(loc='lower right')\n",
    "    "
   ]
  },
  {
   "cell_type": "code",
   "execution_count": 23,
   "metadata": {
    "collapsed": false
   },
   "outputs": [
    {
     "data": {
      "image/png": "[encoded data removed]",
      "text/plain": [
       "<matplotlib.figure.Figure at 0x13cae1690>"
      ]
     },
     "metadata": {},
     "output_type": "display_data"
    }
   ],
   "source": [
    "plot_confusion_matrix(y_true,y_pred)\n",
    "#plot_binary_ROC(y_true,y_prob[:,1])"
   ]
  },
  {
   "cell_type": "code",
   "execution_count": null,
   "metadata": {
    "collapsed": true
   },
   "outputs": [],
   "source": []
  }
 ],
 "metadata": {
  "anaconda-cloud": {},
  "kernelspec": {
   "display_name": "Python [default]",
   "language": "python",
   "name": "python2"
  },
  "language_info": {
   "codemirror_mode": {
    "name": "ipython",
    "version": 2
   },
   "file_extension": ".py",
   "mimetype": "text/x-python",
   "name": "python",
   "nbconvert_exporter": "python",
   "pygments_lexer": "ipython2",
   "version": "2.7.12"
  }
 },
 "nbformat": 4,
 "nbformat_minor": 1
}
